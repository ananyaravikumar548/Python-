{
  "cells": [
    {
      "cell_type": "markdown",
      "metadata": {
        "id": "view-in-github",
        "colab_type": "text"
      },
      "source": [
        "<a href=\"https://colab.research.google.com/github/ananyaravikumar548/Python-/blob/main/ANANYA_R_numpy_exercises.ipynb\" target=\"_parent\"><img src=\"https://colab.research.google.com/assets/colab-badge.svg\" alt=\"Open In Colab\"/></a>"
      ]
    },
    {
      "cell_type": "markdown",
      "metadata": {
        "id": "DB7yY9ZV_aYa"
      },
      "source": [
        "# NumPy Practice\n",
        "\n",
        "This notebook offers a set of exercises for different tasks with NumPy.\n",
        "\n",
        "It should be noted there may be more than one different way to answer a question or complete an exercise.\n",
        "\n",
        "Exercises are based off (and directly taken from) the quick introduction to NumPy notebook.\n",
        "\n",
        "Different tasks will be detailed by comments or text.\n",
        "\n",
        "For further reference and resources, it's advised to check out the [NumPy documentation](https://numpy.org/devdocs/user/index.html).\n",
        "\n",
        "And if you get stuck, try searching for a question in the following format: \"how to do XYZ with numpy\", where XYZ is the function you want to leverage from NumPy."
      ]
    },
    {
      "cell_type": "code",
      "execution_count": 1,
      "metadata": {
        "id": "zxduFRe4_aYe"
      },
      "outputs": [],
      "source": [
        "# Import NumPy as its abbreviation 'np'\n",
        "import numpy as np"
      ]
    },
    {
      "cell_type": "code",
      "execution_count": 2,
      "metadata": {
        "id": "B3ZyjaQK_aYf"
      },
      "outputs": [],
      "source": [
        "# Create a 1-dimensional NumPy array using np.array()\n",
        "arr1 = np.array([1, 2, 3, 4, 5, 6, 7, 8, 9, 10])\n",
        "\n",
        "# Create a 2-dimensional NumPy array using np.array()\n",
        "arr2= np.array([[1, 2, 3], [4, 5, 6], [7, 8, 9]])\n",
        "\n",
        "# Create a 3-dimensional Numpy array using np.array()\n",
        "arr3 = np.array([[[1, 2, 3], [4, 5, 6]], [[7, 8, 9], [10, 11, 12]]])"
      ]
    },
    {
      "cell_type": "markdown",
      "metadata": {
        "id": "JOc6ES6m_aYf"
      },
      "source": [
        "Now we've you've created 3 different arrays, let's find details about them.\n",
        "\n",
        "Find the shape, number of dimensions, data type, size and type of each array."
      ]
    },
    {
      "cell_type": "code",
      "execution_count": 3,
      "metadata": {
        "colab": {
          "base_uri": "https://localhost:8080/"
        },
        "id": "6Bzn4Qrv_aYf",
        "outputId": "82ce1f8d-be52-497a-ccad-044079ee7ab2"
      },
      "outputs": [
        {
          "output_type": "stream",
          "name": "stdout",
          "text": [
            "Shape: (10,)\n",
            "Number of dimensions: 1\n",
            "Data type: int64\n",
            "Size: 10\n",
            "Type: <class 'numpy.ndarray'>\n"
          ]
        }
      ],
      "source": [
        "# Attributes of 1-dimensional array (shape,\n",
        "# number of dimensions, data type, size and type)\n",
        "print(\"Shape:\", arr1.shape)\n",
        "print(\"Number of dimensions:\", arr1.ndim)\n",
        "print(\"Data type:\", arr1.dtype)\n",
        "print(\"Size:\", arr1.size)\n",
        "print(\"Type:\", type(arr1))\n"
      ]
    },
    {
      "cell_type": "code",
      "execution_count": 4,
      "metadata": {
        "colab": {
          "base_uri": "https://localhost:8080/"
        },
        "id": "ZDEa6dNM_aYg",
        "outputId": "56e5bb62-1446-443c-e479-f7733310d9bd"
      },
      "outputs": [
        {
          "output_type": "stream",
          "name": "stdout",
          "text": [
            "Shape: (3, 3)\n",
            "Number of dimensions: 2\n",
            "Data type: int64\n",
            "Size: 9\n",
            "Type: <class 'numpy.ndarray'>\n"
          ]
        }
      ],
      "source": [
        "# Attributes of 2-dimensional array\n",
        "print(\"Shape:\", arr2.shape)\n",
        "print(\"Number of dimensions:\", arr2.ndim)\n",
        "print(\"Data type:\", arr2.dtype)\n",
        "print(\"Size:\", arr2.size)\n",
        "print(\"Type:\", type(arr2))\n"
      ]
    },
    {
      "cell_type": "code",
      "execution_count": 6,
      "metadata": {
        "colab": {
          "base_uri": "https://localhost:8080/"
        },
        "id": "0k5n6Lvh_aYg",
        "outputId": "ca8e556c-f1de-42d0-8328-62ddf99908f7"
      },
      "outputs": [
        {
          "output_type": "stream",
          "name": "stdout",
          "text": [
            "Shape: (2, 2, 3)\n",
            "Number of dimensions: 3\n",
            "Data type: int64\n",
            "Size: 12\n",
            "Type: <class 'numpy.ndarray'>\n"
          ]
        }
      ],
      "source": [
        "# Attributes of 3-dimensional array\n",
        "print(\"Shape:\", arr3.shape)\n",
        "print(\"Number of dimensions:\", arr3.ndim)\n",
        "print(\"Data type:\", arr3.dtype)\n",
        "print(\"Size:\", arr3.size)\n",
        "print(\"Type:\", type(arr3))\n"
      ]
    },
    {
      "cell_type": "code",
      "execution_count": 7,
      "metadata": {
        "colab": {
          "base_uri": "https://localhost:8080/"
        },
        "id": "SAM5fzgm_aYg",
        "outputId": "f9fcd73e-2ee7-4ef3-8372-e6bc13989a89"
      },
      "outputs": [
        {
          "output_type": "stream",
          "name": "stdout",
          "text": [
            "[[1. 1.]\n",
            " [1. 1.]\n",
            " [1. 1.]\n",
            " [1. 1.]\n",
            " [1. 1.]\n",
            " [1. 1.]\n",
            " [1. 1.]\n",
            " [1. 1.]\n",
            " [1. 1.]\n",
            " [1. 1.]]\n"
          ]
        }
      ],
      "source": [
        "# Create an array of shape (10, 2) with only ones\n",
        "ones_array = np.ones((10, 2))\n",
        "print(ones_array)\n"
      ]
    },
    {
      "cell_type": "code",
      "execution_count": 8,
      "metadata": {
        "colab": {
          "base_uri": "https://localhost:8080/"
        },
        "id": "Mfm1lkyD_aYg",
        "outputId": "13cd609b-c7f0-43cd-8a9a-f2dc8fa63a92"
      },
      "outputs": [
        {
          "output_type": "stream",
          "name": "stdout",
          "text": [
            "[[[0. 0. 0.]\n",
            "  [0. 0. 0.]]\n",
            "\n",
            " [[0. 0. 0.]\n",
            "  [0. 0. 0.]]\n",
            "\n",
            " [[0. 0. 0.]\n",
            "  [0. 0. 0.]]\n",
            "\n",
            " [[0. 0. 0.]\n",
            "  [0. 0. 0.]]\n",
            "\n",
            " [[0. 0. 0.]\n",
            "  [0. 0. 0.]]\n",
            "\n",
            " [[0. 0. 0.]\n",
            "  [0. 0. 0.]]\n",
            "\n",
            " [[0. 0. 0.]\n",
            "  [0. 0. 0.]]]\n"
          ]
        }
      ],
      "source": [
        "# Create an array of shape (7, 2, 3) of only zeros\n",
        "arr =np.zeros ((7,2,3))\n",
        "print (arr)"
      ]
    },
    {
      "cell_type": "code",
      "execution_count": 9,
      "metadata": {
        "colab": {
          "base_uri": "https://localhost:8080/"
        },
        "id": "FbySiJRj_aYh",
        "outputId": "451c9687-c558-4995-9fc4-e8dee85d37c8"
      },
      "outputs": [
        {
          "output_type": "stream",
          "name": "stdout",
          "text": [
            "[ 0  3  6  9 12 15 18 21 24 27 30 33 36 39 42 45 48 51 54 57 60 63 66 69\n",
            " 72 75 78 81 84 87 90 93 96 99]\n"
          ]
        }
      ],
      "source": [
        "# Create an array within a range of 0 and 100 with step 3\n",
        "arr_range = np.arange(0, 100, 3)\n",
        "print(arr_range)\n"
      ]
    },
    {
      "cell_type": "code",
      "execution_count": 10,
      "metadata": {
        "colab": {
          "base_uri": "https://localhost:8080/"
        },
        "id": "tmB9ycSI_aYh",
        "outputId": "aedef8ef-d77f-4fc2-9d90-4c0005ef50d8"
      },
      "outputs": [
        {
          "output_type": "stream",
          "name": "stdout",
          "text": [
            "[[7 9]\n",
            " [4 1]\n",
            " [9 7]\n",
            " [8 9]\n",
            " [0 6]\n",
            " [1 3]\n",
            " [5 6]]\n"
          ]
        }
      ],
      "source": [
        "# Create a random array with numbers between 0 and 10 of size (7, 2)\n",
        "Arr1 = np.random.randint(0, 10, (7, 2))\n",
        "print(Arr1)\n"
      ]
    },
    {
      "cell_type": "code",
      "execution_count": 14,
      "metadata": {
        "colab": {
          "base_uri": "https://localhost:8080/"
        },
        "id": "ujHIyDxc_aYh",
        "outputId": "fbe3ff16-606d-474a-cbfb-87707b4d09dc"
      },
      "outputs": [
        {
          "output_type": "stream",
          "name": "stdout",
          "text": [
            "[[0.57008962 0.18973755 0.90552743 0.83593235 0.60595471]\n",
            " [0.67029811 0.5762641  0.93323786 0.20780644 0.23971704]\n",
            " [0.79166504 0.12875906 0.1704287  0.58423885 0.86531816]]\n"
          ]
        }
      ],
      "source": [
        "# Create a random array of floats between 0 & 1 of shape (3, 5)\n",
        "Arr2 = np.random.rand(3, 5)\n",
        "print(Arr2)\n"
      ]
    },
    {
      "cell_type": "code",
      "execution_count": 16,
      "metadata": {
        "colab": {
          "base_uri": "https://localhost:8080/"
        },
        "id": "ezoUQBmP_aYh",
        "outputId": "508162ce-0eb9-456a-d14a-ea034725ae4b"
      },
      "outputs": [
        {
          "output_type": "stream",
          "name": "stdout",
          "text": [
            "[[6 3 7 4 6 9]\n",
            " [2 6 7 4 3 7]\n",
            " [7 2 5 4 1 7]\n",
            " [5 1 4 0 9 5]]\n"
          ]
        }
      ],
      "source": [
        "# Set the random seed to 42\n",
        "np.random.seed(42)\n",
        "# Create a random array of numbers between 0 & 10 of size (4, 6)\n",
        "Arr3 = np.random.randint(0, 10, (4, 6))\n",
        "print(Arr3)\n"
      ]
    },
    {
      "cell_type": "markdown",
      "metadata": {
        "id": "eLVlXk44_aYh"
      },
      "source": [
        "Run the cell above again, what happens?\n",
        "\n",
        "Are the numbers in the array different or the same? Why do think this is?\n",
        "= the numbers are same beacuse we have set the seed to 42 hence numbers remain same"
      ]
    },
    {
      "cell_type": "code",
      "execution_count": 18,
      "metadata": {
        "colab": {
          "base_uri": "https://localhost:8080/"
        },
        "id": "zKMwgbTM_aYh",
        "outputId": "ba648667-7d1c-4d04-880e-b8bbf74678b0"
      },
      "outputs": [
        {
          "output_type": "stream",
          "name": "stdout",
          "text": [
            "[[7 8 3 1 4 2 8]\n",
            " [4 2 6 6 4 6 2]\n",
            " [2 4 8 7 9 8 5]]\n",
            "[1 2 3 4 5 6 7 8 9]\n"
          ]
        }
      ],
      "source": [
        "# Create an array of random numbers between 1 & 10 of size (3, 7)\n",
        "# and save it to a variable\n",
        "\n",
        "Arr4 = np.random.randint(1, 10, (3, 7))\n",
        "print(Arr4)\n",
        "\n",
        "# Find the unique numbers in the array you just created\n",
        "unique_numbers = np.unique(Arr4)\n",
        "print(unique_numbers)\n"
      ]
    },
    {
      "cell_type": "code",
      "execution_count": 19,
      "metadata": {
        "colab": {
          "base_uri": "https://localhost:8080/"
        },
        "id": "Syvv_ge1_aYi",
        "outputId": "95783deb-e75a-4b2b-95a0-c045b08a5109"
      },
      "outputs": [
        {
          "output_type": "stream",
          "name": "stdout",
          "text": [
            "[7 8 3 1 4 2 8]\n"
          ]
        }
      ],
      "source": [
        "# Find the 0'th index of the latest array you created\n",
        "index0 = Arr4[0]\n",
        "print(index0)\n"
      ]
    },
    {
      "cell_type": "code",
      "execution_count": 20,
      "metadata": {
        "colab": {
          "base_uri": "https://localhost:8080/"
        },
        "id": "d4696SdZ_aYi",
        "outputId": "b3cc888b-82e3-4903-a755-d389ed18015b"
      },
      "outputs": [
        {
          "output_type": "stream",
          "name": "stdout",
          "text": [
            "[[7 8 3 1 4 2 8]\n",
            " [4 2 6 6 4 6 2]]\n"
          ]
        }
      ],
      "source": [
        "# Get the first 2 rows of latest array you created\n",
        "two_rows = Arr4[:2]\n",
        "print(two_rows)\n"
      ]
    },
    {
      "cell_type": "code",
      "execution_count": 21,
      "metadata": {
        "colab": {
          "base_uri": "https://localhost:8080/"
        },
        "id": "5FCBgUyv_aYi",
        "outputId": "d1b74a83-dac0-4292-9409-9f6a5d5151d4"
      },
      "outputs": [
        {
          "output_type": "stream",
          "name": "stdout",
          "text": [
            "[[7 8]\n",
            " [4 2]]\n"
          ]
        }
      ],
      "source": [
        "# Get the first 2 values of the first 2 rows of the latest array\n",
        "two_values = two_rows[:, :2]\n",
        "print(two_values)\n"
      ]
    },
    {
      "cell_type": "code",
      "execution_count": 22,
      "metadata": {
        "colab": {
          "base_uri": "https://localhost:8080/"
        },
        "id": "FeRnnqd5_aYi",
        "outputId": "16690774-31f0-4148-d3d1-dfacdb05f1e7"
      },
      "outputs": [
        {
          "output_type": "stream",
          "name": "stdout",
          "text": [
            "Random Array:\n",
            " [[1 4 7 9 8]\n",
            " [8 0 8 6 8]\n",
            " [7 0 7 7 2]]\n",
            "Array of Ones:\n",
            " [[1. 1. 1. 1. 1.]\n",
            " [1. 1. 1. 1. 1.]\n",
            " [1. 1. 1. 1. 1.]]\n"
          ]
        }
      ],
      "source": [
        "# Create a random array of numbers between 0 & 10 and an array of ones\n",
        "# both of size (3, 5), save them both to variables\n",
        "arr_random = np.random.randint(0, 10, (3, 5))\n",
        "arr_ones = np.ones((3, 5))\n",
        "\n",
        "print(\"Random Array:\\n\", arr_random)\n",
        "print(\"Array of Ones:\\n\", arr_ones)\n"
      ]
    },
    {
      "cell_type": "code",
      "execution_count": 23,
      "metadata": {
        "colab": {
          "base_uri": "https://localhost:8080/"
        },
        "id": "azhNppTu_aYj",
        "outputId": "e62473a2-066a-4557-d0ed-a1dbbb7b9909"
      },
      "outputs": [
        {
          "output_type": "stream",
          "name": "stdout",
          "text": [
            "[[ 2.  5.  8. 10.  9.]\n",
            " [ 9.  1.  9.  7.  9.]\n",
            " [ 8.  1.  8.  8.  3.]]\n"
          ]
        }
      ],
      "source": [
        "# Add the two arrays together\n",
        "sum_arrays = arr_random + arr_ones\n",
        "print(sum_arrays)\n"
      ]
    },
    {
      "cell_type": "code",
      "execution_count": 24,
      "metadata": {
        "colab": {
          "base_uri": "https://localhost:8080/"
        },
        "id": "_jRvM9VB_aYj",
        "outputId": "d5b5676a-edf5-4013-fa0b-994a671364ae"
      },
      "outputs": [
        {
          "output_type": "stream",
          "name": "stdout",
          "text": [
            "[[1. 1. 1.]\n",
            " [1. 1. 1.]\n",
            " [1. 1. 1.]\n",
            " [1. 1. 1.]\n",
            " [1. 1. 1.]]\n"
          ]
        }
      ],
      "source": [
        "# Create another array of ones of shape (5, 3)\n",
        "array = np.ones((5, 3))\n",
        "print(array)\n"
      ]
    },
    {
      "cell_type": "code",
      "execution_count": 25,
      "metadata": {
        "colab": {
          "base_uri": "https://localhost:8080/",
          "height": 156
        },
        "id": "TWmzAgNE_aYj",
        "outputId": "0c2c5ae9-acdc-46ff-ced1-b0719eb4c99a"
      },
      "outputs": [
        {
          "output_type": "error",
          "ename": "ValueError",
          "evalue": "operands could not be broadcast together with shapes (3,5) (5,3) ",
          "traceback": [
            "\u001b[0;31m---------------------------------------------------------------------------\u001b[0m",
            "\u001b[0;31mValueError\u001b[0m                                Traceback (most recent call last)",
            "\u001b[0;32m<ipython-input-25-f485b20f80ac>\u001b[0m in \u001b[0;36m<cell line: 0>\u001b[0;34m()\u001b[0m\n\u001b[1;32m      1\u001b[0m \u001b[0;31m# Try add the array of ones and the other most recent array together\u001b[0m\u001b[0;34m\u001b[0m\u001b[0;34m\u001b[0m\u001b[0m\n\u001b[0;32m----> 2\u001b[0;31m \u001b[0mresult\u001b[0m \u001b[0;34m=\u001b[0m \u001b[0marr_random\u001b[0m \u001b[0;34m+\u001b[0m \u001b[0marray\u001b[0m\u001b[0;34m\u001b[0m\u001b[0;34m\u001b[0m\u001b[0m\n\u001b[0m",
            "\u001b[0;31mValueError\u001b[0m: operands could not be broadcast together with shapes (3,5) (5,3) "
          ]
        }
      ],
      "source": [
        "# Try add the array of ones and the other most recent array together\n",
        "result = arr_random + array\n"
      ]
    },
    {
      "cell_type": "code",
      "source": [
        "result = arr_random + array.T\n",
        "print(result)\n"
      ],
      "metadata": {
        "colab": {
          "base_uri": "https://localhost:8080/"
        },
        "id": "WYl-HsihH6xD",
        "outputId": "4cf08077-e365-402c-ec17-2766304a4a97"
      },
      "execution_count": 26,
      "outputs": [
        {
          "output_type": "stream",
          "name": "stdout",
          "text": [
            "[[ 2.  5.  8. 10.  9.]\n",
            " [ 9.  1.  9.  7.  9.]\n",
            " [ 8.  1.  8.  8.  3.]]\n"
          ]
        }
      ]
    },
    {
      "cell_type": "markdown",
      "metadata": {
        "id": "CgfH0M40_aYj"
      },
      "source": [
        "When you try the last cell, it produces an error. Why do think this is?\n",
        "=It produces error beacuse the shape of the 2 arrays is different from each other so no compatability\n",
        "How would you fix it?\n",
        "=taking the transpose of the second array would make it possible"
      ]
    },
    {
      "cell_type": "code",
      "execution_count": 27,
      "metadata": {
        "colab": {
          "base_uri": "https://localhost:8080/"
        },
        "id": "BK1ocM81_aYj",
        "outputId": "38503431-6843-4a5b-f5fb-a4581f510e2c"
      },
      "outputs": [
        {
          "output_type": "stream",
          "name": "stdout",
          "text": [
            "[[1. 1. 1. 1. 1.]\n",
            " [1. 1. 1. 1. 1.]\n",
            " [1. 1. 1. 1. 1.]]\n"
          ]
        }
      ],
      "source": [
        "# Create another array of ones of shape (3, 5)\n",
        "array1 = np.ones((3, 5))\n",
        "print(array1)\n"
      ]
    },
    {
      "cell_type": "code",
      "execution_count": 28,
      "metadata": {
        "colab": {
          "base_uri": "https://localhost:8080/"
        },
        "id": "ypExy_Nl_aYj",
        "outputId": "c757f6a0-ed45-48d1-818e-3a699275b5cf"
      },
      "outputs": [
        {
          "output_type": "stream",
          "name": "stdout",
          "text": [
            "[[ 0.  3.  6.  8.  7.]\n",
            " [ 7. -1.  7.  5.  7.]\n",
            " [ 6. -1.  6.  6.  1.]]\n"
          ]
        }
      ],
      "source": [
        "# Subtract the new array of ones from the other most recent array\n",
        "subtracted_array = arr_random - array1\n",
        "print(subtracted_array)\n"
      ]
    },
    {
      "cell_type": "code",
      "execution_count": 29,
      "metadata": {
        "colab": {
          "base_uri": "https://localhost:8080/"
        },
        "id": "gWoUatEZ_aYj",
        "outputId": "77586192-c3f4-4771-ecf2-e01c40021ba8"
      },
      "outputs": [
        {
          "output_type": "stream",
          "name": "stdout",
          "text": [
            "[[1. 4. 7. 9. 8.]\n",
            " [8. 0. 8. 6. 8.]\n",
            " [7. 0. 7. 7. 2.]]\n"
          ]
        }
      ],
      "source": [
        "# Multiply the ones array with the latest array\n",
        "multiplied_array = array1 * arr_random\n",
        "print(multiplied_array)\n"
      ]
    },
    {
      "cell_type": "code",
      "execution_count": 31,
      "metadata": {
        "colab": {
          "base_uri": "https://localhost:8080/"
        },
        "id": "Fy1y-FPE_aYk",
        "outputId": "d3f78635-7791-4432-d7cd-dec3fc03835f"
      },
      "outputs": [
        {
          "output_type": "stream",
          "name": "stdout",
          "text": [
            "[[ 1. 16. 49. 81. 64.]\n",
            " [64.  0. 64. 36. 64.]\n",
            " [49.  0. 49. 49.  4.]]\n"
          ]
        }
      ],
      "source": [
        "# Take the latest array to the power of 2 using '**'\n",
        "squared_array = multiplied_array ** 2\n",
        "print(squared_array)\n"
      ]
    },
    {
      "cell_type": "code",
      "execution_count": 32,
      "metadata": {
        "colab": {
          "base_uri": "https://localhost:8080/"
        },
        "id": "IWt5xGHB_aYk",
        "outputId": "12436b29-32a3-4fcd-cfc6-1e2d7b79aece"
      },
      "outputs": [
        {
          "output_type": "stream",
          "name": "stdout",
          "text": [
            "[[ 1. 16. 49. 81. 64.]\n",
            " [64.  0. 64. 36. 64.]\n",
            " [49.  0. 49. 49.  4.]]\n"
          ]
        }
      ],
      "source": [
        "# Do the same thing with np.square()\n",
        "squared_array_np = np.square(multiplied_array)\n",
        "print(squared_array_np)\n"
      ]
    },
    {
      "cell_type": "code",
      "execution_count": 33,
      "metadata": {
        "colab": {
          "base_uri": "https://localhost:8080/"
        },
        "id": "PPOXY8IS_aYk",
        "outputId": "bccdf1ff-5a25-4cd1-e2e8-f4ede715f2c9"
      },
      "outputs": [
        {
          "output_type": "stream",
          "name": "stdout",
          "text": [
            "39.333333333333336\n"
          ]
        }
      ],
      "source": [
        "# Find the mean of the latest array using np.mean()\n",
        "mean_value = np.mean(squared_array)\n",
        "print(mean_value)\n"
      ]
    },
    {
      "cell_type": "code",
      "execution_count": 34,
      "metadata": {
        "colab": {
          "base_uri": "https://localhost:8080/"
        },
        "id": "jxAhz1qP_aYk",
        "outputId": "f847b3a9-87d3-42ec-91a0-42adb13b6e91"
      },
      "outputs": [
        {
          "output_type": "stream",
          "name": "stdout",
          "text": [
            "81.0\n"
          ]
        }
      ],
      "source": [
        "# Find the maximum of the latest array using np.max()\n",
        "max_value = np.max(squared_array)\n",
        "print(max_value)\n"
      ]
    },
    {
      "cell_type": "code",
      "execution_count": 35,
      "metadata": {
        "colab": {
          "base_uri": "https://localhost:8080/"
        },
        "id": "au3VBBaB_aYk",
        "outputId": "c941c701-7d88-4ab4-f051-d73bd69625c0"
      },
      "outputs": [
        {
          "output_type": "stream",
          "name": "stdout",
          "text": [
            "0.0\n"
          ]
        }
      ],
      "source": [
        "# Find the minimum of the latest array using np.min()\n",
        "min_value = np.min(squared_array)\n",
        "print(min_value)\n"
      ]
    },
    {
      "cell_type": "code",
      "execution_count": 36,
      "metadata": {
        "colab": {
          "base_uri": "https://localhost:8080/"
        },
        "id": "JQKN10rE_aYk",
        "outputId": "7867c047-36aa-4d2b-a014-387cefaa9525"
      },
      "outputs": [
        {
          "output_type": "stream",
          "name": "stdout",
          "text": [
            "26.97076606665488\n"
          ]
        }
      ],
      "source": [
        "# Find the standard deviation of the latest array\n",
        "std_dev = np.std(squared_array)\n",
        "print(std_dev)\n"
      ]
    },
    {
      "cell_type": "code",
      "execution_count": 37,
      "metadata": {
        "colab": {
          "base_uri": "https://localhost:8080/"
        },
        "id": "OUy6TNHT_aYk",
        "outputId": "a1f2186d-d684-457c-be47-94ebfdac3bc9"
      },
      "outputs": [
        {
          "output_type": "stream",
          "name": "stdout",
          "text": [
            "727.4222222222223\n"
          ]
        }
      ],
      "source": [
        "# Find the variance of the latest array\n",
        "variance = np.var(squared_array)\n",
        "print(variance)\n"
      ]
    },
    {
      "cell_type": "code",
      "execution_count": 38,
      "metadata": {
        "colab": {
          "base_uri": "https://localhost:8080/"
        },
        "id": "9qpl5B_N_aYl",
        "outputId": "6d33f5cc-b34d-45f0-e845-dd6b0de66589"
      },
      "outputs": [
        {
          "output_type": "stream",
          "name": "stdout",
          "text": [
            "[[[ 1.]\n",
            "  [16.]\n",
            "  [49.]\n",
            "  [81.]\n",
            "  [64.]]\n",
            "\n",
            " [[64.]\n",
            "  [ 0.]\n",
            "  [64.]\n",
            "  [36.]\n",
            "  [64.]]\n",
            "\n",
            " [[49.]\n",
            "  [ 0.]\n",
            "  [49.]\n",
            "  [49.]\n",
            "  [ 4.]]]\n"
          ]
        }
      ],
      "source": [
        "# Reshape the latest array to (3, 5, 1)\n",
        "reshaped_array = squared_array.reshape(3, 5, 1)\n",
        "print(reshaped_array)\n"
      ]
    },
    {
      "cell_type": "code",
      "execution_count": 39,
      "metadata": {
        "colab": {
          "base_uri": "https://localhost:8080/"
        },
        "id": "FWBxcqHC_aYl",
        "outputId": "1d620949-59d8-4aaf-8b17-80f021957a91"
      },
      "outputs": [
        {
          "output_type": "stream",
          "name": "stdout",
          "text": [
            "[[[ 1. 64. 49.]\n",
            "  [16.  0.  0.]\n",
            "  [49. 64. 49.]\n",
            "  [81. 36. 49.]\n",
            "  [64. 64.  4.]]]\n"
          ]
        }
      ],
      "source": [
        "# Transpose the latest array\n",
        "transposed_array = reshaped_array.T\n",
        "print(transposed_array)\n"
      ]
    },
    {
      "cell_type": "markdown",
      "metadata": {
        "id": "S1CnjDes_aYl"
      },
      "source": [
        "What does the transpose do? = tranpose here is used to interchange cloumns and rows"
      ]
    },
    {
      "cell_type": "code",
      "execution_count": 40,
      "metadata": {
        "colab": {
          "base_uri": "https://localhost:8080/"
        },
        "id": "nnaU2Lfb_aYl",
        "outputId": "b309a32f-233c-48f7-fb45-1a3394c8abec"
      },
      "outputs": [
        {
          "output_type": "stream",
          "name": "stdout",
          "text": [
            "[[ 0  7  2]\n",
            " [ 2  0 10]\n",
            " [ 4  9  6]]\n",
            "[[9 8]\n",
            " [6 8]\n",
            " [7 1]]\n"
          ]
        }
      ],
      "source": [
        "# Create two arrays of random integers between 0 to 10\n",
        "# one of size (3, 3) the other of size (3, 2)\n",
        "Array1 = np.random.randint(0, 11, (3, 3))\n",
        "Array2 = np.random.randint(0, 11, (3, 2))\n",
        "\n",
        "print(Array1)\n",
        "print(Array2)\n"
      ]
    },
    {
      "cell_type": "code",
      "execution_count": 41,
      "metadata": {
        "colab": {
          "base_uri": "https://localhost:8080/"
        },
        "id": "wDOkwwRn_aYm",
        "outputId": "c70448d3-05f0-4e45-ed37-9a80192e6fb4"
      },
      "outputs": [
        {
          "output_type": "stream",
          "name": "stdout",
          "text": [
            "[[ 56  58]\n",
            " [ 88  26]\n",
            " [132 110]]\n"
          ]
        }
      ],
      "source": [
        "# Perform a dot product on the two newest arrays you created\n",
        "dot_product = np.dot(Array1, Array2)\n",
        "print(dot_product)\n"
      ]
    },
    {
      "cell_type": "code",
      "execution_count": 42,
      "metadata": {
        "colab": {
          "base_uri": "https://localhost:8080/"
        },
        "id": "RrgYTkOn_aYm",
        "outputId": "9d667601-3e10-40aa-8be6-2432cbc45232"
      },
      "outputs": [
        {
          "output_type": "stream",
          "name": "stdout",
          "text": [
            "[[ 0  6  6]\n",
            " [ 7  4  2]\n",
            " [ 7  5 10]\n",
            " [ 2  0  2]]\n",
            "[[ 4  2  0]\n",
            " [ 4  9  6]\n",
            " [ 6 10  8]\n",
            " [ 9  9  2]]\n"
          ]
        }
      ],
      "source": [
        "# Create two arrays of random integers between 0 to 10\n",
        "# both of size (4, 3)\n",
        "Array3 = np.random.randint(0, 11, (4, 3))\n",
        "Array4 = np.random.randint(0, 11, (4, 3))\n",
        "\n",
        "print(Array3)\n",
        "print(Array4)\n"
      ]
    },
    {
      "cell_type": "code",
      "execution_count": 43,
      "metadata": {
        "colab": {
          "base_uri": "https://localhost:8080/",
          "height": 173
        },
        "id": "_eQ7RtM2_aYm",
        "outputId": "d62ecd17-5447-4eea-e5a6-3eb413cca1db"
      },
      "outputs": [
        {
          "output_type": "error",
          "ename": "ValueError",
          "evalue": "shapes (4,3) and (4,3) not aligned: 3 (dim 1) != 4 (dim 0)",
          "traceback": [
            "\u001b[0;31m---------------------------------------------------------------------------\u001b[0m",
            "\u001b[0;31mValueError\u001b[0m                                Traceback (most recent call last)",
            "\u001b[0;32m<ipython-input-43-5db6ff4e234e>\u001b[0m in \u001b[0;36m<cell line: 0>\u001b[0;34m()\u001b[0m\n\u001b[1;32m      1\u001b[0m \u001b[0;31m# Perform a dot product on the two newest arrays you created\u001b[0m\u001b[0;34m\u001b[0m\u001b[0;34m\u001b[0m\u001b[0m\n\u001b[0;32m----> 2\u001b[0;31m \u001b[0mresult\u001b[0m \u001b[0;34m=\u001b[0m \u001b[0mnp\u001b[0m\u001b[0;34m.\u001b[0m\u001b[0mdot\u001b[0m\u001b[0;34m(\u001b[0m\u001b[0mArray3\u001b[0m\u001b[0;34m,\u001b[0m \u001b[0mArray4\u001b[0m\u001b[0;34m)\u001b[0m  \u001b[0;31m# Transposing Array4\u001b[0m\u001b[0;34m\u001b[0m\u001b[0;34m\u001b[0m\u001b[0m\n\u001b[0m\u001b[1;32m      3\u001b[0m \u001b[0mprint\u001b[0m\u001b[0;34m(\u001b[0m\u001b[0mresult\u001b[0m\u001b[0;34m)\u001b[0m\u001b[0;34m\u001b[0m\u001b[0;34m\u001b[0m\u001b[0m\n",
            "\u001b[0;31mValueError\u001b[0m: shapes (4,3) and (4,3) not aligned: 3 (dim 1) != 4 (dim 0)"
          ]
        }
      ],
      "source": [
        "# Perform a dot product on the two newest arrays you created\n",
        "result = np.dot(Array3, Array4)  # Transposing Array4\n",
        "print(result)\n"
      ]
    },
    {
      "cell_type": "markdown",
      "metadata": {
        "id": "D7as-e3K_aYn"
      },
      "source": [
        "It doesn't work. How would you fix it?"
      ]
    },
    {
      "cell_type": "code",
      "execution_count": 44,
      "metadata": {
        "colab": {
          "base_uri": "https://localhost:8080/"
        },
        "id": "QMWT8iXG_aYn",
        "outputId": "56e49f45-1de3-4424-9aaf-afa37d3c3afb"
      },
      "outputs": [
        {
          "output_type": "stream",
          "name": "stdout",
          "text": [
            "[[ 12  90 108  66]\n",
            " [ 36  76  98 103]\n",
            " [ 38 133 172 128]\n",
            " [  8  20  28  22]]\n"
          ]
        }
      ],
      "source": [
        "# Take the latest two arrays, perform a transpose on one of them and then perform\n",
        "# a dot product on them both\n",
        "result = np.dot(Array3, Array4.T)  # Transposing Array4\n",
        "print(result)\n"
      ]
    },
    {
      "cell_type": "markdown",
      "metadata": {
        "id": "eTjR0u2Q_aYn"
      },
      "source": [
        "Notice how performing a transpose allows the dot product to happen.\n",
        "\n",
        "Why is this?\n",
        "\n",
        "Checking out the documentation on [`np.dot()`](https://docs.scipy.org/doc/numpy/reference/generated/numpy.dot.html) may help, as well as reading [Math is Fun's guide on the dot product](https://www.mathsisfun.com/algebra/vectors-dot-product.html).\n",
        "\n",
        "Let's now compare arrays."
      ]
    },
    {
      "cell_type": "code",
      "execution_count": 46,
      "metadata": {
        "colab": {
          "base_uri": "https://localhost:8080/"
        },
        "id": "8_f4IcQX_aYn",
        "outputId": "d4b752ce-0bf8-4a76-d9a9-10237c3d0ea2"
      },
      "outputs": [
        {
          "output_type": "stream",
          "name": "stdout",
          "text": [
            "Array 1:\n",
            " [[ 3 10  9]\n",
            " [ 6  8  6]\n",
            " [ 0  0  8]]\n",
            "Array 2:\n",
            " [[10  8  3]\n",
            " [ 8  2  6]\n",
            " [ 5  7 10]]\n"
          ]
        }
      ],
      "source": [
        "# Create two arrays of random integers between 0 & 10 of the same shape\n",
        "# and save them to variables\n",
        "\n",
        "\n",
        "array1 = np.random.randint(0, 11, (3, 3))\n",
        "array2 = np.random.randint(0, 11, (3, 3))\n",
        "\n",
        "print(\"Array 1:\\n\", array1)\n",
        "print(\"Array 2:\\n\", array2)\n"
      ]
    },
    {
      "cell_type": "code",
      "execution_count": 47,
      "metadata": {
        "colab": {
          "base_uri": "https://localhost:8080/"
        },
        "id": "mkVePare_aYn",
        "outputId": "b36c9db8-a628-47d0-9c70-72b012b10056"
      },
      "outputs": [
        {
          "output_type": "stream",
          "name": "stdout",
          "text": [
            "[[False  True  True]\n",
            " [False  True False]\n",
            " [False False False]]\n"
          ]
        }
      ],
      "source": [
        "# Compare the two arrays with '>'\n",
        "comparison = array1 > array2\n",
        "print(comparison)\n"
      ]
    },
    {
      "cell_type": "markdown",
      "metadata": {
        "id": "KlTs1AnD_aYn"
      },
      "source": [
        "What happens when you compare the arrays with `>`? = it will result  in boolean either true or false with repsect to conditions"
      ]
    },
    {
      "cell_type": "code",
      "execution_count": 49,
      "metadata": {
        "colab": {
          "base_uri": "https://localhost:8080/"
        },
        "id": "d-ekJ3I-_aYn",
        "outputId": "750f67ca-23c8-4aa4-af58-d47aad9ba08f"
      },
      "outputs": [
        {
          "output_type": "stream",
          "name": "stdout",
          "text": [
            "[[False  True  True]\n",
            " [False  True  True]\n",
            " [False False False]]\n"
          ]
        }
      ],
      "source": [
        "# Compare the two arrays with '>='\n",
        "comparison1 = array1 >= array2\n",
        "print(comparison1)\n"
      ]
    },
    {
      "cell_type": "code",
      "execution_count": 50,
      "metadata": {
        "colab": {
          "base_uri": "https://localhost:8080/"
        },
        "id": "vDgNhGKv_aYn",
        "outputId": "97969205-967b-41b8-ec02-c96f758042ba"
      },
      "outputs": [
        {
          "output_type": "stream",
          "name": "stdout",
          "text": [
            "[[False  True  True]\n",
            " [False  True False]\n",
            " [False False  True]]\n"
          ]
        }
      ],
      "source": [
        "# Find which elements of the first array are greater than 7\n",
        "greater_than_7 = array1 > 7\n",
        "print(greater_than_7)\n"
      ]
    },
    {
      "cell_type": "code",
      "execution_count": 51,
      "metadata": {
        "colab": {
          "base_uri": "https://localhost:8080/"
        },
        "id": "Nr7GlRWz_aYn",
        "outputId": "50ec5be5-9d3c-44d8-d1d1-bd77ec42a648"
      },
      "outputs": [
        {
          "output_type": "stream",
          "name": "stdout",
          "text": [
            "[[False False False]\n",
            " [False False  True]\n",
            " [False False False]]\n"
          ]
        }
      ],
      "source": [
        "# Which parts of each array are equal? (try using '==')\n",
        "equal_elements = array1 == array2\n",
        "print(equal_elements)\n"
      ]
    },
    {
      "cell_type": "code",
      "execution_count": 52,
      "metadata": {
        "colab": {
          "base_uri": "https://localhost:8080/"
        },
        "id": "kxUz6rB-_aYn",
        "outputId": "b3c50562-7059-4b4f-c1c9-bdd3b63a0394"
      },
      "outputs": [
        {
          "output_type": "stream",
          "name": "stdout",
          "text": [
            "[[ 3  9 10]\n",
            " [ 6  6  8]\n",
            " [ 0  0  8]]\n"
          ]
        }
      ],
      "source": [
        "# Sort one of the arrays you just created in ascending order\n",
        "sorted_array1 = np.sort(array1)\n",
        "print(sorted_array1)\n"
      ]
    },
    {
      "cell_type": "code",
      "execution_count": 53,
      "metadata": {
        "colab": {
          "base_uri": "https://localhost:8080/"
        },
        "id": "ka3GtkiR_aYn",
        "outputId": "eb764ecd-d160-4236-ba22-b172e95a2e07"
      },
      "outputs": [
        {
          "output_type": "stream",
          "name": "stdout",
          "text": [
            "[[0 2 1]\n",
            " [0 2 1]\n",
            " [0 1 2]]\n"
          ]
        }
      ],
      "source": [
        "# Sort the indexes of one of the arrays you just created\n",
        "sorted_indexes = np.argsort(array1)\n",
        "print(sorted_indexes)\n"
      ]
    },
    {
      "cell_type": "code",
      "execution_count": 54,
      "metadata": {
        "colab": {
          "base_uri": "https://localhost:8080/"
        },
        "id": "0smUSGta_aYo",
        "outputId": "ccfc7f8e-b199-47f9-a6f5-ffc13e4716d2"
      },
      "outputs": [
        {
          "output_type": "stream",
          "name": "stdout",
          "text": [
            "1\n"
          ]
        }
      ],
      "source": [
        "# Find the index with the maximum value in one of the arrays you've created\n",
        "max_index = np.argmax(array1)\n",
        "print(max_index)\n"
      ]
    },
    {
      "cell_type": "code",
      "execution_count": 55,
      "metadata": {
        "colab": {
          "base_uri": "https://localhost:8080/"
        },
        "id": "LQ9oP8oB_aYo",
        "outputId": "78fe21c8-f454-4aab-8691-6c09fde2da67"
      },
      "outputs": [
        {
          "output_type": "stream",
          "name": "stdout",
          "text": [
            "6\n"
          ]
        }
      ],
      "source": [
        "# Find the index with the minimum value in one of the arrays you've created\n",
        "min_index = np.argmin(array1)\n",
        "print(min_index)\n"
      ]
    },
    {
      "cell_type": "code",
      "execution_count": 56,
      "metadata": {
        "colab": {
          "base_uri": "https://localhost:8080/"
        },
        "id": "8AtZIemN_aYo",
        "outputId": "b9ac8116-4d60-45ff-e3a9-c5444621f94e"
      },
      "outputs": [
        {
          "output_type": "stream",
          "name": "stdout",
          "text": [
            "[1 1 2]\n"
          ]
        }
      ],
      "source": [
        "# Find the indexes with the maximum values down the 1st axis (axis=1)\n",
        "# of one of the arrays you created\n",
        "max_index_axis1 = np.argmax(array1, axis=1)\n",
        "print(max_index_axis1)\n"
      ]
    },
    {
      "cell_type": "code",
      "execution_count": 57,
      "metadata": {
        "colab": {
          "base_uri": "https://localhost:8080/"
        },
        "id": "rKZ733sU_aYo",
        "outputId": "a58725ff-e98f-41ec-bac3-6600225bd81c"
      },
      "outputs": [
        {
          "output_type": "stream",
          "name": "stdout",
          "text": [
            "[2 2 1]\n"
          ]
        }
      ],
      "source": [
        "# Find the indexes with the minimum values across the 0th axis (axis=0)\n",
        "# of one of the arrays you created\n",
        "min_index_axis0 = np.argmin(array1, axis=0)\n",
        "print(min_index_axis0)\n"
      ]
    },
    {
      "cell_type": "code",
      "execution_count": 61,
      "metadata": {
        "colab": {
          "base_uri": "https://localhost:8080/"
        },
        "id": "W-dOgbJo_aYo",
        "outputId": "2aced88f-8b50-4168-bd03-0be5fda6f248"
      },
      "outputs": [
        {
          "output_type": "stream",
          "name": "stdout",
          "text": [
            "[[ 1.14282281  0.75193303  0.79103195]\n",
            " [-0.90938745  1.40279431 -1.40185106]\n",
            " [ 0.58685709  2.19045563 -0.99053633]]\n"
          ]
        }
      ],
      "source": [
        "# Create an array of normally distributed random numbers\n",
        "random_array = np.random.randn(3, 3)\n",
        "print(random_array)\n"
      ]
    },
    {
      "cell_type": "code",
      "execution_count": 62,
      "metadata": {
        "colab": {
          "base_uri": "https://localhost:8080/"
        },
        "id": "WqX8-tk0_aYo",
        "outputId": "d0677595-d680-4b8c-f1e3-2a105190f0bc"
      },
      "outputs": [
        {
          "output_type": "stream",
          "name": "stdout",
          "text": [
            "[  1.  12.  23.  34.  45.  56.  67.  78.  89. 100.]\n"
          ]
        }
      ],
      "source": [
        "# Create an array with 10 evenly spaced numbers between 1 and 100\n",
        "evenly_spaced_array = np.linspace(1, 100, 10)\n",
        "print(evenly_spaced_array)\n"
      ]
    },
    {
      "cell_type": "markdown",
      "metadata": {
        "id": "AD434hmt_aYo"
      },
      "source": [
        "## Extensions\n",
        "\n",
        "For more exercises, check out the [NumPy quickstart tutorial](https://numpy.org/doc/stable/user/quickstart.html). A good practice would be to read through it and for the parts you find interesting, add them into the end of this notebook.\n",
        "\n",
        "Pay particular attention to the section on broadcasting. And most importantly, get hands-on with the code as much as possible. If in dobut, run the code, see what it does.\n",
        "\n",
        "Finally, as always, remember, the best way to learn something new is to try it. And try it relentlessly. If you get interested in some kind of NumPy function, asking yourself, \"I wonder if NumPy could do that?\", go and find out."
      ]
    },
    {
      "cell_type": "markdown",
      "metadata": {
        "id": "7essZqFR_aYo"
      },
      "source": [
        "\n",
        "\n"
      ]
    },
    {
      "cell_type": "markdown",
      "metadata": {
        "id": "nfPVQfX0_aYo"
      },
      "source": [
        "What happens when you try to broadcast A (3,) array with a (4,) array?\n",
        "\n",
        "Explain why this operation might fail and how to fix it.\n",
        "\n"
      ]
    },
    {
      "cell_type": "markdown",
      "metadata": {
        "id": "cOzklZWE_aYo"
      },
      "source": [
        "Broadcasting requires arrays to have compatible shapes of arrays\n",
        "A (3,) array has 3 elements, while a (4,) array has 4 elements.\n",
        "Since the dimensions do not match, NumPy shows error.\n",
        "this can be solved by making both the array shapes compatibile"
      ]
    },
    {
      "cell_type": "code",
      "execution_count": 63,
      "metadata": {
        "colab": {
          "base_uri": "https://localhost:8080/"
        },
        "id": "dVrRp47B_aYo",
        "outputId": "bde7e9dd-9847-4318-a542-6b1be08d649f"
      },
      "outputs": [
        {
          "output_type": "stream",
          "name": "stdout",
          "text": [
            "[5 7 9 8]\n"
          ]
        }
      ],
      "source": [
        "\n",
        "arr1 = np.array([1, 2, 3])\n",
        "arr2 = np.array([4, 5, 6, 7])\n",
        "\n",
        "arr1_resized = np.resize(arr1, (4,))\n",
        "result = arr1_resized + arr2\n",
        "print(result)\n"
      ]
    },
    {
      "cell_type": "markdown",
      "metadata": {
        "id": "JWquSSEO_aYo"
      },
      "source": [
        "Write a NumPy program to add a 1D array of shape (3,) to a 2D array of shape (2, 3).\n"
      ]
    },
    {
      "cell_type": "code",
      "execution_count": 64,
      "metadata": {
        "colab": {
          "base_uri": "https://localhost:8080/"
        },
        "id": "9HLR0QtQ_aYo",
        "outputId": "6439801f-e3c7-4a6f-f0fd-baae2d71b5cb"
      },
      "outputs": [
        {
          "output_type": "stream",
          "name": "stdout",
          "text": [
            "[[11 22 33]\n",
            " [14 25 36]]\n"
          ]
        }
      ],
      "source": [
        "\n",
        "\n",
        "array_2d = np.array([[1, 2, 3], [4, 5, 6]])\n",
        "array_1d = np.array([10, 20, 30])\n",
        "\n",
        "result = array_2d + array_1d\n",
        "print(result)\n"
      ]
    },
    {
      "cell_type": "markdown",
      "metadata": {
        "id": "QUBuXfYI_aYo"
      },
      "source": [
        "Add a 1D array [10, 20, 30] to each row of a 2D array [[1, 2, 3], [4, 5, 6], [7, 8, 9]]."
      ]
    },
    {
      "cell_type": "code",
      "source": [
        "\n",
        "\n",
        "array_2d = np.array([[1, 2, 3], [4, 5, 6], [7, 8, 9]])\n",
        "array_1d = np.array([10, 20, 30])\n",
        "\n",
        "result = array_2d + array_1d\n",
        "print(result)\n"
      ],
      "metadata": {
        "colab": {
          "base_uri": "https://localhost:8080/"
        },
        "id": "2SU_F0u_R7je",
        "outputId": "2a896009-10e1-42b7-c22c-04633189a3a5"
      },
      "execution_count": 65,
      "outputs": [
        {
          "output_type": "stream",
          "name": "stdout",
          "text": [
            "[[11 22 33]\n",
            " [14 25 36]\n",
            " [17 28 39]]\n"
          ]
        }
      ]
    },
    {
      "cell_type": "markdown",
      "metadata": {
        "id": "vr_BrQRo_aYo"
      },
      "source": [
        "Attempt to add a 1D array [10, 20] to a 2D array [[1, 2, 3], [4, 5, 6]]. Explain the error."
      ]
    },
    {
      "cell_type": "code",
      "source": [
        "\n",
        "\n",
        "array_2d = np.array([[1, 2, 3], [4, 5, 6]])\n",
        "array_1d = np.array([10, 20])\n",
        "\n",
        "result = array_2d + array_1d\n",
        "print(result)\n"
      ],
      "metadata": {
        "colab": {
          "base_uri": "https://localhost:8080/",
          "height": 190
        },
        "id": "cIPQ4bkRUPEk",
        "outputId": "c35b7387-43e6-41e8-d292-662aac039458"
      },
      "execution_count": 66,
      "outputs": [
        {
          "output_type": "error",
          "ename": "ValueError",
          "evalue": "operands could not be broadcast together with shapes (2,3) (2,) ",
          "traceback": [
            "\u001b[0;31m---------------------------------------------------------------------------\u001b[0m",
            "\u001b[0;31mValueError\u001b[0m                                Traceback (most recent call last)",
            "\u001b[0;32m<ipython-input-66-a393ea30a149>\u001b[0m in \u001b[0;36m<cell line: 0>\u001b[0;34m()\u001b[0m\n\u001b[1;32m      2\u001b[0m \u001b[0marray_1d\u001b[0m \u001b[0;34m=\u001b[0m \u001b[0mnp\u001b[0m\u001b[0;34m.\u001b[0m\u001b[0marray\u001b[0m\u001b[0;34m(\u001b[0m\u001b[0;34m[\u001b[0m\u001b[0;36m10\u001b[0m\u001b[0;34m,\u001b[0m \u001b[0;36m20\u001b[0m\u001b[0;34m]\u001b[0m\u001b[0;34m)\u001b[0m\u001b[0;34m\u001b[0m\u001b[0;34m\u001b[0m\u001b[0m\n\u001b[1;32m      3\u001b[0m \u001b[0;34m\u001b[0m\u001b[0m\n\u001b[0;32m----> 4\u001b[0;31m \u001b[0mresult\u001b[0m \u001b[0;34m=\u001b[0m \u001b[0marray_2d\u001b[0m \u001b[0;34m+\u001b[0m \u001b[0marray_1d\u001b[0m\u001b[0;34m\u001b[0m\u001b[0;34m\u001b[0m\u001b[0m\n\u001b[0m\u001b[1;32m      5\u001b[0m \u001b[0mprint\u001b[0m\u001b[0;34m(\u001b[0m\u001b[0mresult\u001b[0m\u001b[0;34m)\u001b[0m\u001b[0;34m\u001b[0m\u001b[0;34m\u001b[0m\u001b[0m\n",
            "\u001b[0;31mValueError\u001b[0m: operands could not be broadcast together with shapes (2,3) (2,) "
          ]
        }
      ]
    },
    {
      "cell_type": "markdown",
      "metadata": {
        "id": "rGiOsdTM_aYp"
      },
      "source": [
        "ERROR = incompatility of shapes of two arrays while broadcasting"
      ]
    },
    {
      "cell_type": "markdown",
      "metadata": {
        "id": "HG1R2jsm_aYp"
      },
      "source": [
        "Multiply a 2D array [[1, 2], [3, 4]] with a 1D array [10, 20] using broadcasting."
      ]
    },
    {
      "cell_type": "code",
      "source": [
        "\n",
        "arr2D = np.array([[1, 2], [3, 4]])\n",
        "arr1D = np.array([10, 20])\n",
        "\n",
        "\n",
        "result = arr2D * arr1D\n",
        "\n",
        "print(result)\n"
      ],
      "metadata": {
        "colab": {
          "base_uri": "https://localhost:8080/"
        },
        "id": "dHoBpCpeUlxJ",
        "outputId": "4a6cf36b-1cc3-4d51-e773-b3c62b5d27b1"
      },
      "execution_count": 67,
      "outputs": [
        {
          "output_type": "stream",
          "name": "stdout",
          "text": [
            "[[10 40]\n",
            " [30 80]]\n"
          ]
        }
      ]
    }
  ],
  "metadata": {
    "kernelspec": {
      "display_name": "Python 3",
      "language": "python",
      "name": "python3"
    },
    "language_info": {
      "codemirror_mode": {
        "name": "ipython",
        "version": 3
      },
      "file_extension": ".py",
      "mimetype": "text/x-python",
      "name": "python",
      "nbconvert_exporter": "python",
      "pygments_lexer": "ipython3",
      "version": "3.8.3"
    },
    "colab": {
      "provenance": [],
      "include_colab_link": true
    }
  },
  "nbformat": 4,
  "nbformat_minor": 0
}